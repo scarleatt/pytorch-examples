{
 "cells": [
  {
   "cell_type": "code",
   "execution_count": 1,
   "metadata": {},
   "outputs": [],
   "source": [
    "import torch\n",
    "%matplotlib inline\n",
    "import matplotlib.pyplot as plt\n",
    "from IPython import display"
   ]
  },
  {
   "cell_type": "code",
   "execution_count": 2,
   "metadata": {
    "scrolled": true
   },
   "outputs": [],
   "source": [
    "def get_data(batch_size=16):\n",
    "    x = torch.rand(batch_size, 1) * 5\n",
    "    y = x * 2 + 3 + torch.randn(batch_size, 1)\n",
    "    return x, y"
   ]
  },
  {
   "cell_type": "code",
   "execution_count": 3,
   "metadata": {},
   "outputs": [
    {
     "data": {
      "text/plain": [
       "<matplotlib.collections.PathCollection at 0x1274e0b50>"
      ]
     },
     "execution_count": 3,
     "metadata": {},
     "output_type": "execute_result"
    },
    {
     "data": {
      "image/png": "[encoded data removed]",
      "text/plain": [
       "<Figure size 432x288 with 1 Axes>"
      ]
     },
     "metadata": {
      "needs_background": "light"
     },
     "output_type": "display_data"
    }
   ],
   "source": [
    "x, y = get_data()\n",
    "plt.scatter(x.numpy(), y.numpy())"
   ]
  },
  {
   "cell_type": "code",
   "execution_count": 4,
   "metadata": {},
   "outputs": [
    {
     "data": {
      "image/png": "[encoded data removed]",
      "text/plain": [
       "<Figure size 432x288 with 1 Axes>"
      ]
     },
     "metadata": {
      "needs_background": "light"
     },
     "output_type": "display_data"
    }
   ],
   "source": [
    "w = torch.rand(1, 1)\n",
    "b = torch.zeros(1, 1)\n",
    "\n",
    "lr = 0.01\n",
    "\n",
    "for i in range(1000):\n",
    "    x, y = get_data()\n",
    "    \n",
    "    # forward\n",
    "    y_pred = x.mm(w) + b\n",
    "    loss = 0.5 * (y_pred - y) ** 2\n",
    "    loss = loss.mean()\n",
    "\n",
    "    # backward\n",
    "    dw = x.t().mm(y_pred - y) \n",
    "    db = (y_pred - y).sum()\n",
    "\n",
    "    w.sub_(dw * lr)\n",
    "    b.sub_(db * lr)\n",
    "    \n",
    "    # plot\n",
    "    if i % 50 == 0:\n",
    "        display.clear_output(wait=True)\n",
    "        x = torch.arange(0, 6).view(-1, 1)\n",
    "        y = x.float().mm(w) + b\n",
    "        plt.plot(x.numpy(), y.numpy())\n",
    "        \n",
    "        x1, y1 = get_data(32)\n",
    "        plt.scatter(x1.numpy(), y1.numpy())\n",
    "        \n",
    "        plt.xlim(0, 5)\n",
    "        plt.ylim(0, 13)\n",
    "        plt.show()\n",
    "        plt.pause(0.5)"
   ]
  },
  {
   "cell_type": "code",
   "execution_count": 5,
   "metadata": {},
   "outputs": [
    {
     "data": {
      "text/plain": [
       "(2.173053741455078, 2.945833683013916)"
      ]
     },
     "execution_count": 5,
     "metadata": {},
     "output_type": "execute_result"
    }
   ],
   "source": [
    "w.item(), b.item()"
   ]
  }
 ],
 "metadata": {
  "kernelspec": {
   "display_name": "Python 3",
   "language": "python",
   "name": "python3"
  },
  "language_info": {
   "codemirror_mode": {
    "name": "ipython",
    "version": 3
   },
   "file_extension": ".py",
   "mimetype": "text/x-python",
   "name": "python",
   "nbconvert_exporter": "python",
   "pygments_lexer": "ipython3",
   "version": "3.7.7"
  }
 },
 "nbformat": 4,
 "nbformat_minor": 4
}
